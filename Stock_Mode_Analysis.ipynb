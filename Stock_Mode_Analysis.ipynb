{
  "nbformat": 4,
  "nbformat_minor": 0,
  "metadata": {
    "colab": {
      "provenance": [],
      "authorship_tag": "ABX9TyP89yMPN1L9JauqDk6iKWmZ",
      "include_colab_link": true
    },
    "kernelspec": {
      "name": "python3",
      "display_name": "Python 3"
    },
    "language_info": {
      "name": "python"
    }
  },
  "cells": [
    {
      "cell_type": "markdown",
      "metadata": {
        "id": "view-in-github",
        "colab_type": "text"
      },
      "source": [
        "<a href=\"https://colab.research.google.com/github/345ishaan/algorithmic_trading/blob/main/Stock_Mode_Analysis.ipynb\" target=\"_parent\"><img src=\"https://colab.research.google.com/assets/colab-badge.svg\" alt=\"Open In Colab\"/></a>"
      ]
    },
    {
      "cell_type": "code",
      "execution_count": 1,
      "metadata": {
        "id": "jnXVbKDTTWX4",
        "outputId": "784c709f-e913-4b2e-f396-e6c844694c45",
        "colab": {
          "base_uri": "https://localhost:8080/"
        }
      },
      "outputs": [
        {
          "output_type": "stream",
          "name": "stdout",
          "text": [
            "Looking in indexes: https://pypi.org/simple, https://us-python.pkg.dev/colab-wheels/public/simple/\n",
            "Collecting jugaad-data\n",
            "  Downloading jugaad_data-0.24-py3-none-any.whl (26 kB)\n",
            "Requirement already satisfied: requests in /usr/local/lib/python3.10/dist-packages (from jugaad-data) (2.27.1)\n",
            "Collecting click==7.1.2 (from jugaad-data)\n",
            "  Downloading click-7.1.2-py2.py3-none-any.whl (82 kB)\n",
            "\u001b[2K     \u001b[90m━━━━━━━━━━━━━━━━━━━━━━━━━━━━━━━━━━━━━━━━\u001b[0m \u001b[32m82.8/82.8 kB\u001b[0m \u001b[31m3.2 MB/s\u001b[0m eta \u001b[36m0:00:00\u001b[0m\n",
            "\u001b[?25hRequirement already satisfied: appdirs==1.4.4 in /usr/local/lib/python3.10/dist-packages (from jugaad-data) (1.4.4)\n",
            "Collecting beautifulsoup4==4.9.3 (from jugaad-data)\n",
            "  Downloading beautifulsoup4-4.9.3-py3-none-any.whl (115 kB)\n",
            "\u001b[2K     \u001b[90m━━━━━━━━━━━━━━━━━━━━━━━━━━━━━━━━━━━━━━━\u001b[0m \u001b[32m115.8/115.8 kB\u001b[0m \u001b[31m6.7 MB/s\u001b[0m eta \u001b[36m0:00:00\u001b[0m\n",
            "\u001b[?25hRequirement already satisfied: soupsieve>1.2 in /usr/local/lib/python3.10/dist-packages (from beautifulsoup4==4.9.3->jugaad-data) (2.4.1)\n",
            "Requirement already satisfied: urllib3<1.27,>=1.21.1 in /usr/local/lib/python3.10/dist-packages (from requests->jugaad-data) (1.26.15)\n",
            "Requirement already satisfied: certifi>=2017.4.17 in /usr/local/lib/python3.10/dist-packages (from requests->jugaad-data) (2022.12.7)\n",
            "Requirement already satisfied: charset-normalizer~=2.0.0 in /usr/local/lib/python3.10/dist-packages (from requests->jugaad-data) (2.0.12)\n",
            "Requirement already satisfied: idna<4,>=2.5 in /usr/local/lib/python3.10/dist-packages (from requests->jugaad-data) (3.4)\n",
            "Installing collected packages: click, beautifulsoup4, jugaad-data\n",
            "  Attempting uninstall: click\n",
            "    Found existing installation: click 8.1.3\n",
            "    Uninstalling click-8.1.3:\n",
            "      Successfully uninstalled click-8.1.3\n",
            "  Attempting uninstall: beautifulsoup4\n",
            "    Found existing installation: beautifulsoup4 4.11.2\n",
            "    Uninstalling beautifulsoup4-4.11.2:\n",
            "      Successfully uninstalled beautifulsoup4-4.11.2\n",
            "\u001b[31mERROR: pip's dependency resolver does not currently take into account all the packages that are installed. This behaviour is the source of the following dependency conflicts.\n",
            "flask 2.2.4 requires click>=8.0, but you have click 7.1.2 which is incompatible.\n",
            "pip-tools 6.13.0 requires click>=8, but you have click 7.1.2 which is incompatible.\n",
            "yfinance 0.2.18 requires beautifulsoup4>=4.11.1, but you have beautifulsoup4 4.9.3 which is incompatible.\u001b[0m\u001b[31m\n",
            "\u001b[0mSuccessfully installed beautifulsoup4-4.9.3 click-7.1.2 jugaad-data-0.24\n",
            "Looking in indexes: https://pypi.org/simple, https://us-python.pkg.dev/colab-wheels/public/simple/\n",
            "Requirement already satisfied: pandas in /usr/local/lib/python3.10/dist-packages (1.5.3)\n",
            "Requirement already satisfied: python-dateutil>=2.8.1 in /usr/local/lib/python3.10/dist-packages (from pandas) (2.8.2)\n",
            "Requirement already satisfied: pytz>=2020.1 in /usr/local/lib/python3.10/dist-packages (from pandas) (2022.7.1)\n",
            "Requirement already satisfied: numpy>=1.21.0 in /usr/local/lib/python3.10/dist-packages (from pandas) (1.22.4)\n",
            "Requirement already satisfied: six>=1.5 in /usr/local/lib/python3.10/dist-packages (from python-dateutil>=2.8.1->pandas) (1.16.0)\n",
            "Looking in indexes: https://pypi.org/simple, https://us-python.pkg.dev/colab-wheels/public/simple/\n",
            "Requirement already satisfied: yfinance in /usr/local/lib/python3.10/dist-packages (0.2.18)\n",
            "Requirement already satisfied: pandas>=1.3.0 in /usr/local/lib/python3.10/dist-packages (from yfinance) (1.5.3)\n",
            "Requirement already satisfied: numpy>=1.16.5 in /usr/local/lib/python3.10/dist-packages (from yfinance) (1.22.4)\n",
            "Requirement already satisfied: requests>=2.26 in /usr/local/lib/python3.10/dist-packages (from yfinance) (2.27.1)\n",
            "Requirement already satisfied: multitasking>=0.0.7 in /usr/local/lib/python3.10/dist-packages (from yfinance) (0.0.11)\n",
            "Requirement already satisfied: lxml>=4.9.1 in /usr/local/lib/python3.10/dist-packages (from yfinance) (4.9.2)\n",
            "Requirement already satisfied: appdirs>=1.4.4 in /usr/local/lib/python3.10/dist-packages (from yfinance) (1.4.4)\n",
            "Requirement already satisfied: pytz>=2022.5 in /usr/local/lib/python3.10/dist-packages (from yfinance) (2022.7.1)\n",
            "Requirement already satisfied: frozendict>=2.3.4 in /usr/local/lib/python3.10/dist-packages (from yfinance) (2.3.7)\n",
            "Requirement already satisfied: cryptography>=3.3.2 in /usr/local/lib/python3.10/dist-packages (from yfinance) (40.0.2)\n",
            "Collecting beautifulsoup4>=4.11.1 (from yfinance)\n",
            "  Downloading beautifulsoup4-4.12.2-py3-none-any.whl (142 kB)\n",
            "\u001b[2K     \u001b[90m━━━━━━━━━━━━━━━━━━━━━━━━━━━━━━━━━━━━━━━\u001b[0m \u001b[32m143.0/143.0 kB\u001b[0m \u001b[31m5.7 MB/s\u001b[0m eta \u001b[36m0:00:00\u001b[0m\n",
            "\u001b[?25hRequirement already satisfied: html5lib>=1.1 in /usr/local/lib/python3.10/dist-packages (from yfinance) (1.1)\n",
            "Requirement already satisfied: soupsieve>1.2 in /usr/local/lib/python3.10/dist-packages (from beautifulsoup4>=4.11.1->yfinance) (2.4.1)\n",
            "Requirement already satisfied: cffi>=1.12 in /usr/local/lib/python3.10/dist-packages (from cryptography>=3.3.2->yfinance) (1.15.1)\n",
            "Requirement already satisfied: six>=1.9 in /usr/local/lib/python3.10/dist-packages (from html5lib>=1.1->yfinance) (1.16.0)\n",
            "Requirement already satisfied: webencodings in /usr/local/lib/python3.10/dist-packages (from html5lib>=1.1->yfinance) (0.5.1)\n",
            "Requirement already satisfied: python-dateutil>=2.8.1 in /usr/local/lib/python3.10/dist-packages (from pandas>=1.3.0->yfinance) (2.8.2)\n",
            "Requirement already satisfied: urllib3<1.27,>=1.21.1 in /usr/local/lib/python3.10/dist-packages (from requests>=2.26->yfinance) (1.26.15)\n",
            "Requirement already satisfied: certifi>=2017.4.17 in /usr/local/lib/python3.10/dist-packages (from requests>=2.26->yfinance) (2022.12.7)\n",
            "Requirement already satisfied: charset-normalizer~=2.0.0 in /usr/local/lib/python3.10/dist-packages (from requests>=2.26->yfinance) (2.0.12)\n",
            "Requirement already satisfied: idna<4,>=2.5 in /usr/local/lib/python3.10/dist-packages (from requests>=2.26->yfinance) (3.4)\n",
            "Requirement already satisfied: pycparser in /usr/local/lib/python3.10/dist-packages (from cffi>=1.12->cryptography>=3.3.2->yfinance) (2.21)\n",
            "Installing collected packages: beautifulsoup4\n",
            "  Attempting uninstall: beautifulsoup4\n",
            "    Found existing installation: beautifulsoup4 4.9.3\n",
            "    Uninstalling beautifulsoup4-4.9.3:\n",
            "      Successfully uninstalled beautifulsoup4-4.9.3\n",
            "\u001b[31mERROR: pip's dependency resolver does not currently take into account all the packages that are installed. This behaviour is the source of the following dependency conflicts.\n",
            "jugaad-data 0.24 requires beautifulsoup4==4.9.3, but you have beautifulsoup4 4.12.2 which is incompatible.\u001b[0m\u001b[31m\n",
            "\u001b[0mSuccessfully installed beautifulsoup4-4.12.2\n"
          ]
        }
      ],
      "source": [
        "#@title Install Dependencies\n",
        "!pip install jugaad-data\n",
        "!pip install pandas\n",
        "!pip install yfinance"
      ]
    },
    {
      "cell_type": "code",
      "source": [
        "from jugaad_data.nse import stock_df\n",
        "import collections\n",
        "from datetime import datetime\n",
        "import numpy as np\n",
        "import yfinance as yf\n",
        "from calendar import monthrange\n",
        "import calendar\n",
        "import pandas as pd\n",
        "import matplotlib.pyplot as plt\n",
        "import requests\n",
        "pd.set_option('display.max_rows', 500)\n",
        "pd.set_option('display.max_columns', 500)\n",
        "pd.set_option('display.width', 1000)\n"
      ],
      "metadata": {
        "id": "DpuaAQWAVadu"
      },
      "execution_count": 2,
      "outputs": []
    },
    {
      "cell_type": "code",
      "source": [
        "# Maps famous NSE indices to their data files on nseindia\n",
        "NSE_INDEX_TO_CSV = {\n",
        "    'NIFTY_50': 'https://raw.githubusercontent.com/345ishaan/algorithmic_trading/main/nifty_50.csv',\n",
        "    'NIFTY_LARGEMIDCAP_250': 'https://raw.githubusercontent.com/345ishaan/algorithmic_trading/main/nifty_largemidcap_250.csv',\n",
        "    'NIFTY_MIDSMALLCAP_400': 'https://raw.githubusercontent.com/345ishaan/algorithmic_trading/main/nifty_midsmallcap_400.csv',\n",
        "}"
      ],
      "metadata": {
        "id": "1bWckk7SGLFL"
      },
      "execution_count": 3,
      "outputs": []
    },
    {
      "cell_type": "code",
      "source": [
        "def tickers_in_index(url_path):\n",
        "  res = requests.get(url_path, allow_redirects=True)\n",
        "  with open('data.csv','wb') as file:\n",
        "    file.write(res.content)\n",
        "  df = pd.read_csv('data.csv')\n",
        "  return np.array(df['SYMBOL \\n'][1:].values).tolist() "
      ],
      "metadata": {
        "id": "Vl0uZeYnW2Uc"
      },
      "execution_count": 4,
      "outputs": []
    },
    {
      "cell_type": "code",
      "source": [
        "#@title Params\n",
        "start_year = 2012 #@param {type:\"integer\"}\n",
        "end_year = 2022 #@param {type:\"integer\"}\n",
        "index_name = 'NIFTY_LARGEMIDCAP_250' #@param"
      ],
      "metadata": {
        "id": "tP6Ztws3XijG"
      },
      "execution_count": 5,
      "outputs": []
    },
    {
      "cell_type": "code",
      "source": [
        "stock_tickers = tickers_in_index(NSE_INDEX_TO_CSV[index_name])\n",
        "stock_tickers = list(map(lambda x : x +'.NS' , stock_tickers))"
      ],
      "metadata": {
        "id": "pHTKoptqZfa5"
      },
      "execution_count": 6,
      "outputs": []
    },
    {
      "cell_type": "code",
      "source": [
        "stock_data = yf.download(\" \".join(stock_tickers), start=\"2012-01-01\", end=\"2022-12-31\")\n"
      ],
      "metadata": {
        "id": "GzL7p0mFaaoI",
        "outputId": "e1e391b1-688d-41fd-bed5-44da266ada99",
        "colab": {
          "base_uri": "https://localhost:8080/"
        }
      },
      "execution_count": 7,
      "outputs": [
        {
          "output_type": "stream",
          "name": "stdout",
          "text": [
            "[*********************100%***********************]  250 of 250 completed\n"
          ]
        }
      ]
    },
    {
      "cell_type": "code",
      "source": [
        "stock_data['Open']['RELIANCE.NS'][:15]"
      ],
      "metadata": {
        "id": "SrZloXQAdJPm",
        "outputId": "c45c9f43-cc48-49ac-bf49-736e6051466a",
        "colab": {
          "base_uri": "https://localhost:8080/"
        }
      },
      "execution_count": 8,
      "outputs": [
        {
          "output_type": "execute_result",
          "data": {
            "text/plain": [
              "Date\n",
              "2012-01-02    345.128540\n",
              "2012-01-03    352.780975\n",
              "2012-01-04    360.284851\n",
              "2012-01-05    354.143066\n",
              "2012-01-06    345.252350\n",
              "2012-01-09    353.870667\n",
              "2012-01-10    352.657166\n",
              "2012-01-11    365.485565\n",
              "2012-01-12    370.240479\n",
              "2012-01-13    367.516327\n",
              "2012-01-16    361.547882\n",
              "2012-01-17    354.638397\n",
              "2012-01-18    377.422424\n",
              "2012-01-19    390.795654\n",
              "2012-01-20    391.290955\n",
              "Name: RELIANCE.NS, dtype: float64"
            ]
          },
          "metadata": {},
          "execution_count": 8
        }
      ]
    },
    {
      "cell_type": "code",
      "source": [
        "#@title Find average month change over past xx years\n",
        "PCT_DATA = {}\n",
        "for stock in stock_tickers:\n",
        "  PCT_DATA[stock] = {}\n",
        "  month_ch = collections.defaultdict(list)\n",
        "  month_valid = collections.defaultdict(list)\n",
        "  for year in range(start_year, end_year + 1):\n",
        "    # TODO: check if we query change without asking all info in a dataframe.\n",
        "    for m in range(1, 12+1):\n",
        "      num_days = monthrange(year, m)[1]\n",
        "      week_day_end = datetime(year,m,num_days).weekday()\n",
        "      valid_start = 1\n",
        "      valid_open = None\n",
        "      valid_end = num_days\n",
        "      valid_close = None\n",
        "      while valid_open is None:\n",
        "        try:\n",
        "          str_start = f'0{valid_start}' if valid_start < 10 else f'{valid_start}'\n",
        "          str_m = f'0{m}' if m < 10 else f'{m}'\n",
        "          month_start = f'{year}-{str_m}-{str_start}'\n",
        "          valid_open = stock_data['Open'][stock][month_start]\n",
        "        except Exception as e:\n",
        "          valid_start += 1\n",
        "          valid_start %= num_days\n",
        "      end_m = m\n",
        "      while valid_close is None:\n",
        "        try:\n",
        "          str_end = f'0{valid_end}' if valid_end < 10 else f'{valid_end}'\n",
        "          str_m = f'0{end_m}' if end_m < 10 else f'{end_m}'\n",
        "          month_end = f'{year}-{str_m}-{str_end}'\n",
        "          valid_close = stock_data['Close'][stock][month_end]\n",
        "        except Exception as e:\n",
        "          valid_end = (valid_end + 1)% num_days\n",
        "          end_m = m+1 if m + 1 < 12 else 1\n",
        "\n",
        "      delta_change = valid_close - valid_open\n",
        "      pct_change = (delta_change / valid_open)*100\n",
        "      month_ch[m].append(pct_change)\n",
        "      month_valid[m].append(1)\n",
        "  PCT_DATA[stock]['month_ch'] = month_ch\n",
        "  PCT_DATA[stock]['month_valid'] = month_valid"
      ],
      "metadata": {
        "id": "yJr-51YXVZn_"
      },
      "execution_count": 9,
      "outputs": []
    },
    {
      "cell_type": "code",
      "source": [
        "print(PCT_DATA['TORNTPHARM.NS']['month_ch'][1])"
      ],
      "metadata": {
        "id": "f8TWI6Itf_Vf",
        "outputId": "20f84af0-b55b-428e-84df-34e577fb735e",
        "colab": {
          "base_uri": "https://localhost:8080/"
        }
      },
      "execution_count": 10,
      "outputs": [
        {
          "output_type": "stream",
          "name": "stdout",
          "text": [
            "[1.274530049993312, -3.5606026977875342, 14.214604036918738, 0.8533311631944445, -4.3838618350381005, -1.3058552878089187, -3.988722733328929, 1.9535356153549601, 4.108035482718026, -9.590060796061, -18.51609116449977]\n"
          ]
        }
      ]
    },
    {
      "cell_type": "code",
      "source": [
        "#@title Plot per month bar plot given stock symbol\n",
        "\n",
        "plot_stock_symbol = 'TORNTPHARM.NS' #@param {type:\"string\"}\n",
        "plot_month = 4 #@param\n",
        "plotdata = pd.DataFrame([{'pct_change': PCT_DATA[plot_stock_symbol]['month_ch'][plot_month][x], } for x,_ in enumerate(range(start_year, end_year + 1))],\n",
        "                        index=[year for year in range(start_year, end_year + 1)])\n",
        "plotdata.plot(kind=\"bar\")\n",
        "plt.title(f\"Percentage change in month:{plot_month} for:{plot_stock_symbol}\")\n",
        "plt.xlabel(\"Year\")\n",
        "plt.ylabel(\"%change\")"
      ],
      "metadata": {
        "colab": {
          "base_uri": "https://localhost:8080/",
          "height": 511
        },
        "id": "NC00EIUbYD_G",
        "outputId": "6f4ef219-0a67-4711-916c-c393f5e90375"
      },
      "execution_count": 11,
      "outputs": [
        {
          "output_type": "execute_result",
          "data": {
            "text/plain": [
              "Text(0, 0.5, '%change')"
            ]
          },
          "metadata": {},
          "execution_count": 11
        },
        {
          "output_type": "display_data",
          "data": {
            "text/plain": [
              "<Figure size 640x480 with 1 Axes>"
            ],
            "image/png": "[encoded data removed]"
          },
          "metadata": {}
        }
      ]
    },
    {
      "cell_type": "code",
      "source": [
        "#@title Find stock months where PCT_Change > threshold more than x% of year range.\n",
        "\n",
        "YEAR_X = 1.0 #@param\n",
        "PCT_THRESHOLD = 5 #@param\n",
        "MONTH_RANGE = range(1,13)\n",
        "FILTERED_STOCKS = []\n",
        "for stock in PCT_DATA:\n",
        "  max_num = 0\n",
        "  max_month = None\n",
        "  for month in MONTH_RANGE:\n",
        "    month_ch = np.array(PCT_DATA[stock]['month_ch'][month])\n",
        "    total_months = np.sum(np.array(month_ch > PCT_THRESHOLD))\n",
        "    if max_num < total_months:\n",
        "      max_month = month\n",
        "      max_num = total_months\n",
        "  # max_month / max_num\n",
        "  # Feb: 10 March : 8 Jun: 6\n",
        "  # max_month = Feb\n",
        "  # max_num = 10\n",
        "  # max_num >= percentage of year_range:\n",
        "  if max_num >= YEAR_X*(end_year-start_year):\n",
        "    FILTERED_STOCKS.append({'ticker': stock, 'best_month': max_month, 'count': max_num})\n",
        "print(FILTERED_STOCKS)\n",
        "  "
      ],
      "metadata": {
        "id": "DsHI1kwLrUqT",
        "outputId": "ebee41bf-05cf-4180-babe-1523573c9236",
        "colab": {
          "base_uri": "https://localhost:8080/"
        },
        "cellView": "form"
      },
      "execution_count": 12,
      "outputs": [
        {
          "output_type": "stream",
          "name": "stdout",
          "text": [
            "[{'ticker': 'TORNTPHARM.NS', 'best_month': 7, 'count': 10}]\n"
          ]
        }
      ]
    }
  ]
}