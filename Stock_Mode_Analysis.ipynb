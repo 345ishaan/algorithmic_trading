{
  "nbformat": 4,
  "nbformat_minor": 0,
  "metadata": {
    "colab": {
      "provenance": [],
      "authorship_tag": "ABX9TyMYxaef1kLn159tyz4ww4nH",
      "include_colab_link": true
    },
    "kernelspec": {
      "name": "python3",
      "display_name": "Python 3"
    },
    "language_info": {
      "name": "python"
    }
  },
  "cells": [
    {
      "cell_type": "markdown",
      "metadata": {
        "id": "view-in-github",
        "colab_type": "text"
      },
      "source": [
        "<a href=\"https://colab.research.google.com/github/345ishaan/algorithmic_trading/blob/main/Stock_Mode_Analysis.ipynb\" target=\"_parent\"><img src=\"https://colab.research.google.com/assets/colab-badge.svg\" alt=\"Open In Colab\"/></a>"
      ]
    },
    {
      "cell_type": "code",
      "execution_count": null,
      "metadata": {
        "id": "jnXVbKDTTWX4"
      },
      "outputs": [],
      "source": [
        "#@title Install Dependencies\n",
        "!pip install jugaad-data\n",
        "!pip install pandas\n",
        "!pip install yfinance"
      ]
    },
    {
      "cell_type": "code",
      "source": [
        "from jugaad_data.nse import stock_df\n",
        "import collections\n",
        "from datetime import datetime\n",
        "import numpy as np\n",
        "import yfinance as yf\n",
        "from calendar import monthrange\n",
        "import calendar\n",
        "import pandas as pd\n",
        "import matplotlib.pyplot as plt\n",
        "import requests\n",
        "pd.set_option('display.max_rows', 500)\n",
        "pd.set_option('display.max_columns', 500)\n",
        "pd.set_option('display.width', 1000)\n"
      ],
      "metadata": {
        "id": "DpuaAQWAVadu"
      },
      "execution_count": 111,
      "outputs": []
    },
    {
      "cell_type": "code",
      "source": [
        "# Maps famous NSE indices to their data files on nseindia\n",
        "NSE_INDEX_TO_CSV = {\n",
        "    'NIFTY_50': 'https://raw.githubusercontent.com/345ishaan/algorithmic_trading/main/nifty_50.csv',\n",
        "    'NIFTY_LARGEMIDCAP_250': 'https://raw.githubusercontent.com/345ishaan/algorithmic_trading/main/nifty_largemidcap_250.csv',\n",
        "}"
      ],
      "metadata": {
        "id": "1bWckk7SGLFL"
      },
      "execution_count": 68,
      "outputs": []
    },
    {
      "cell_type": "code",
      "source": [
        "def tickers_in_index(url_path):\n",
        "  res = requests.get(url_path, allow_redirects=True)\n",
        "  with open('data.csv','wb') as file:\n",
        "    file.write(res.content)\n",
        "  df = pd.read_csv('data.csv')\n",
        "  return np.array(df['SYMBOL \\n'][1:].values).tolist() "
      ],
      "metadata": {
        "id": "Vl0uZeYnW2Uc"
      },
      "execution_count": 69,
      "outputs": []
    },
    {
      "cell_type": "code",
      "source": [
        "#@title Params\n",
        "start_year = 2012 #@param {type:\"integer\"}\n",
        "end_year = 2022 #@param {type:\"integer\"}\n",
        "index_name = 'NIFTY_50' #@param"
      ],
      "metadata": {
        "id": "tP6Ztws3XijG"
      },
      "execution_count": 52,
      "outputs": []
    },
    {
      "cell_type": "code",
      "source": [
        "stock_tickers = tickers_in_index(NSE_INDEX_TO_CSV[index_name])\n",
        "stock_tickers = list(map(lambda x : x +'.NS' , stock_tickers))"
      ],
      "metadata": {
        "id": "pHTKoptqZfa5"
      },
      "execution_count": 78,
      "outputs": []
    },
    {
      "cell_type": "code",
      "source": [
        "stock_data = yf.download(\" \".join(stock_tickers), start=\"2012-01-01\", end=\"2022-12-31\")\n"
      ],
      "metadata": {
        "id": "GzL7p0mFaaoI",
        "outputId": "375f85b9-57a9-43c2-d42d-47f88edc96c2",
        "colab": {
          "base_uri": "https://localhost:8080/"
        }
      },
      "execution_count": 88,
      "outputs": [
        {
          "output_type": "stream",
          "name": "stdout",
          "text": [
            "[*********************100%***********************]  50 of 50 completed\n"
          ]
        }
      ]
    },
    {
      "cell_type": "code",
      "source": [
        "stock_data['Open']['RELIANCE.NS'][:15]"
      ],
      "metadata": {
        "id": "SrZloXQAdJPm",
        "outputId": "41a5e8ac-d8f7-4cb2-d1a2-ea8286885b45",
        "colab": {
          "base_uri": "https://localhost:8080/"
        }
      },
      "execution_count": 110,
      "outputs": [
        {
          "output_type": "execute_result",
          "data": {
            "text/plain": [
              "Date\n",
              "2012-01-02    345.128540\n",
              "2012-01-03    352.780975\n",
              "2012-01-04    360.284851\n",
              "2012-01-05    354.143066\n",
              "2012-01-06    345.252350\n",
              "2012-01-09    353.870667\n",
              "2012-01-10    352.657166\n",
              "2012-01-11    365.485565\n",
              "2012-01-12    370.240479\n",
              "2012-01-13    367.516327\n",
              "2012-01-16    361.547882\n",
              "2012-01-17    354.638397\n",
              "2012-01-18    377.422424\n",
              "2012-01-19    390.795654\n",
              "2012-01-20    391.290955\n",
              "Name: RELIANCE.NS, dtype: float64"
            ]
          },
          "metadata": {},
          "execution_count": 110
        }
      ]
    },
    {
      "cell_type": "code",
      "source": [
        "#@title Find average month change over past xx years\n",
        "PCT_DATA = {}\n",
        "for stock in stock_tickers:\n",
        "  PCT_DATA[stock] = {}\n",
        "  month_ch = collections.defaultdict(list)\n",
        "  month_valid = collections.defaultdict(list)\n",
        "  for year in range(start_year, end_year + 1):\n",
        "    # TODO: check if we query change without asking all info in a dataframe.\n",
        "    for m in range(1, 12+1):\n",
        "      num_days = monthrange(year, m)[1]\n",
        "      week_day_end = datetime(year,m,num_days).weekday()\n",
        "      valid_start = 1\n",
        "      valid_open = None\n",
        "      valid_end = num_days\n",
        "      valid_close = None\n",
        "      while valid_open is None:\n",
        "        try:\n",
        "          str_start = f'0{valid_start}' if valid_start < 10 else f'{valid_start}'\n",
        "          str_m = f'0{m}' if m < 10 else f'{m}'\n",
        "          month_start = f'{year}-{str_m}-{str_start}'\n",
        "          valid_open = stock_data['Open'][stock][month_start]\n",
        "        except Exception as e:\n",
        "          valid_start += 1\n",
        "          valid_start %= num_days\n",
        "      end_m = m\n",
        "      while valid_close is None:\n",
        "        try:\n",
        "          str_end = f'0{valid_end}' if valid_end < 10 else f'{valid_end}'\n",
        "          str_m = f'0{end_m}' if end_m < 10 else f'{end_m}'\n",
        "          month_end = f'{year}-{str_m}-{str_end}'\n",
        "          valid_close = stock_data['Close'][stock][month_end]\n",
        "        except Exception as e:\n",
        "          valid_end = (valid_end + 1)% num_days\n",
        "          end_m = m+1 if m + 1 < 12 else 1\n",
        "\n",
        "      delta_change = valid_close - valid_open\n",
        "      pct_change = (delta_change / valid_open)*100\n",
        "      month_ch[m].append(pct_change)\n",
        "      month_valid[m].append(1)\n",
        "  PCT_DATA[stock]['month_ch'] = month_ch\n",
        "  PCT_DATA[stock]['month_valid'] = month_valid"
      ],
      "metadata": {
        "id": "yJr-51YXVZn_"
      },
      "execution_count": 136,
      "outputs": []
    },
    {
      "cell_type": "code",
      "source": [
        "print(PCT_DATA['RELIANCE.NS']['month_ch'][1])"
      ],
      "metadata": {
        "id": "f8TWI6Itf_Vf",
        "outputId": "68eb97e2-e1a7-4129-a520-a4fc8769dd9b",
        "colab": {
          "base_uri": "https://localhost:8080/"
        }
      },
      "execution_count": 137,
      "outputs": [
        {
          "output_type": "stream",
          "name": "stdout",
          "text": [
            "[17.26463263623544, 5.0533170295475704, -7.387596603319897, 2.4540232993386204, 2.030103952539506, -3.579335717851969, 4.18337527610815, 9.05576099237244, -7.005925225634843, -4.662975411060111, 0.9133233681289641]\n"
          ]
        }
      ]
    },
    {
      "cell_type": "code",
      "source": [
        "#@title Plot per month bar plot given stock symbol\n",
        "\n",
        "plot_stock_symbol = 'HEROMOTOCO.NS' #@param {type:\"string\"}\n",
        "plot_month = 5 #@param\n",
        "plotdata = pd.DataFrame([{'pct_change': PCT_DATA[plot_stock_symbol]['month_ch'][plot_month][x], } for x,_ in enumerate(range(start_year, end_year + 1))],\n",
        "                        index=[year for year in range(start_year, end_year + 1)])\n",
        "plotdata.plot(kind=\"bar\")\n",
        "plt.title(f\"Percentage change in month:{plot_month} for:{plot_stock_symbol}\")\n",
        "plt.xlabel(\"Year\")\n",
        "plt.ylabel(\"%change\")"
      ],
      "metadata": {
        "colab": {
          "base_uri": "https://localhost:8080/",
          "height": 511
        },
        "id": "NC00EIUbYD_G",
        "outputId": "1c1a0d00-e1c7-4eda-c796-2e4abb29f049"
      },
      "execution_count": 154,
      "outputs": [
        {
          "output_type": "execute_result",
          "data": {
            "text/plain": [
              "Text(0, 0.5, '%change')"
            ]
          },
          "metadata": {},
          "execution_count": 154
        },
        {
          "output_type": "display_data",
          "data": {
            "text/plain": [
              "<Figure size 640x480 with 1 Axes>"
            ],
            "image/png": "[encoded data removed]"
          },
          "metadata": {}
        }
      ]
    },
    {
      "cell_type": "code",
      "source": [
        "#@title Find stock months where PCT_Change > threshold more than x% of year range.\n",
        "\n",
        "YEAR_X = 0.8 #@param\n",
        "PCT_THRESHOLD = 2 #@param\n",
        "MONTH_RANGE = range(5,7)\n",
        "FILTERED_STOCKS = []\n",
        "for stock in PCT_DATA:\n",
        "  max_num = 0\n",
        "  max_month = None\n",
        "  for month in MONTH_RANGE:\n",
        "    month_ch = np.array(PCT_DATA[stock]['month_ch'][month])\n",
        "    total_months = np.sum(np.array(month_ch > PCT_THRESHOLD))\n",
        "    if max_num < total_months:\n",
        "      max_month = month\n",
        "      max_num = total_months \n",
        "  if max_num >= YEAR_X*(end_year-start_year):\n",
        "    FILTERED_STOCKS.append({'ticker': stock, 'best_month': max_month, 'count': max_num})\n",
        "print(FILTERED_STOCKS)\n",
        "  "
      ],
      "metadata": {
        "id": "DsHI1kwLrUqT",
        "outputId": "cd8699cb-bf20-419c-98a6-c28615beb16a",
        "colab": {
          "base_uri": "https://localhost:8080/"
        }
      },
      "execution_count": 152,
      "outputs": [
        {
          "output_type": "stream",
          "name": "stdout",
          "text": [
            "[{'ticker': 'HEROMOTOCO.NS', 'best_month': 5, 'count': 9}, {'ticker': 'UPL.NS', 'best_month': 5, 'count': 8}, {'ticker': 'HDFCBANK.NS', 'best_month': 5, 'count': 9}, {'ticker': 'M&M.NS', 'best_month': 5, 'count': 8}, {'ticker': 'KOTAKBANK.NS', 'best_month': 5, 'count': 9}, {'ticker': 'MARUTI.NS', 'best_month': 5, 'count': 8}, {'ticker': 'BAJFINANCE.NS', 'best_month': 5, 'count': 8}]\n"
          ]
        }
      ]
    }
  ]
}