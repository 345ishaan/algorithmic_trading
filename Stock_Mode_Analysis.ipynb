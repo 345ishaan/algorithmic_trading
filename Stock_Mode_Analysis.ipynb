{
  "nbformat": 4,
  "nbformat_minor": 0,
  "metadata": {
    "colab": {
      "provenance": [],
      "authorship_tag": "ABX9TyPAr+VlWFuME5gtvcjDLH9r",
      "include_colab_link": true
    },
    "kernelspec": {
      "name": "python3",
      "display_name": "Python 3"
    },
    "language_info": {
      "name": "python"
    }
  },
  "cells": [
    {
      "cell_type": "markdown",
      "metadata": {
        "id": "view-in-github",
        "colab_type": "text"
      },
      "source": [
        "<a href=\"https://colab.research.google.com/github/345ishaan/algorithmic_trading/blob/main/Stock_Mode_Analysis.ipynb\" target=\"_parent\"><img src=\"https://colab.research.google.com/assets/colab-badge.svg\" alt=\"Open In Colab\"/></a>"
      ]
    },
    {
      "cell_type": "code",
      "execution_count": 1,
      "metadata": {
        "cellView": "form",
        "id": "jnXVbKDTTWX4"
      },
      "outputs": [],
      "source": [
        "#@title Install Dependencies"
      ]
    },
    {
      "cell_type": "code",
      "source": [
        "!pip install jugaad-data\n",
        "!pip install pandas"
      ],
      "metadata": {
        "colab": {
          "base_uri": "https://localhost:8080/"
        },
        "id": "O9a1KFPITk_-",
        "outputId": "9f273a82-791b-4491-a61e-0d676f74f53b"
      },
      "execution_count": 1,
      "outputs": [
        {
          "output_type": "stream",
          "name": "stdout",
          "text": [
            "Looking in indexes: https://pypi.org/simple, https://us-python.pkg.dev/colab-wheels/public/simple/\n",
            "Requirement already satisfied: jugaad-data in /usr/local/lib/python3.8/dist-packages (0.24)\n",
            "Requirement already satisfied: click==7.1.2 in /usr/local/lib/python3.8/dist-packages (from jugaad-data) (7.1.2)\n",
            "Requirement already satisfied: appdirs==1.4.4 in /usr/local/lib/python3.8/dist-packages (from jugaad-data) (1.4.4)\n",
            "Requirement already satisfied: requests in /usr/local/lib/python3.8/dist-packages (from jugaad-data) (2.25.1)\n",
            "Requirement already satisfied: beautifulsoup4==4.9.3 in /usr/local/lib/python3.8/dist-packages (from jugaad-data) (4.9.3)\n",
            "Requirement already satisfied: soupsieve>1.2 in /usr/local/lib/python3.8/dist-packages (from beautifulsoup4==4.9.3->jugaad-data) (2.4)\n",
            "Requirement already satisfied: idna<3,>=2.5 in /usr/local/lib/python3.8/dist-packages (from requests->jugaad-data) (2.10)\n",
            "Requirement already satisfied: certifi>=2017.4.17 in /usr/local/lib/python3.8/dist-packages (from requests->jugaad-data) (2022.12.7)\n",
            "Requirement already satisfied: urllib3<1.27,>=1.21.1 in /usr/local/lib/python3.8/dist-packages (from requests->jugaad-data) (1.26.14)\n",
            "Requirement already satisfied: chardet<5,>=3.0.2 in /usr/local/lib/python3.8/dist-packages (from requests->jugaad-data) (4.0.0)\n",
            "Looking in indexes: https://pypi.org/simple, https://us-python.pkg.dev/colab-wheels/public/simple/\n",
            "Requirement already satisfied: pandas in /usr/local/lib/python3.8/dist-packages (1.3.5)\n",
            "Requirement already satisfied: python-dateutil>=2.7.3 in /usr/local/lib/python3.8/dist-packages (from pandas) (2.8.2)\n",
            "Requirement already satisfied: numpy>=1.17.3 in /usr/local/lib/python3.8/dist-packages (from pandas) (1.22.4)\n",
            "Requirement already satisfied: pytz>=2017.3 in /usr/local/lib/python3.8/dist-packages (from pandas) (2022.7.1)\n",
            "Requirement already satisfied: six>=1.5 in /usr/local/lib/python3.8/dist-packages (from python-dateutil>=2.7.3->pandas) (1.15.0)\n"
          ]
        }
      ]
    },
    {
      "cell_type": "code",
      "source": [
        "from jugaad_data.nse import stock_df\n",
        "import collections\n",
        "import datetime\n",
        "import numpy as np\n",
        "from calendar import monthrange\n",
        "import calendar\n",
        "import pandas as pd\n",
        "import matplotlib.pyplot as plt\n",
        "pd.set_option('display.max_rows', 500)\n",
        "pd.set_option('display.max_columns', 500)\n",
        "pd.set_option('display.width', 1000)\n"
      ],
      "metadata": {
        "id": "DpuaAQWAVadu"
      },
      "execution_count": 42,
      "outputs": []
    },
    {
      "cell_type": "code",
      "source": [
        "TOP_K_NSE_STOCKS = [\n",
        "'Reliance Industries Ltd. - RELIANCE',\n",
        "'Tata Consultancy Services Ltd. - TCS',\n",
        "'HDFC Bank Ltd. - HDFCBANK',\n",
        "'Infosys Ltd. - INFY',\n",
        "'Housing Development Finance Corporation Ltd. - HDFC',\n",
        "'ICICI Bank Ltd. - ICICIBANK',\n",
        "'Kotak Mahindra Bank Ltd. - KOTAKBANK',\n",
        "'Hindustan Unilever Ltd. - HINDUNILVR',\n",
        "'Bajaj Finance Ltd. - BAJFINANCE',\n",
        "'State Bank of India - SBIN',\n",
        "'Bharti Airtel Ltd. - BHARTIARTL',\n",
        "'Wipro Ltd. - WIPRO',\n",
        "'ITC Ltd. - ITC',\n",
        "'Larsen & Toubro Ltd. - LT',\n",
        "'Asian Paints Ltd. - ASIANPAINT',\n",
        "'Axis Bank Ltd. - AXISBANK',\n",
        "'Mahindra & Mahindra Ltd. - M&M',\n",
        "'Maruti Suzuki India Ltd. - MARUTI',\n",
        "'Nestle India Ltd. - NESTLEIND',\n",
        "'Sun Pharmaceutical Industries Ltd. - SUNPHARMA',\n",
        "'HCL Technologies Ltd. - HCLTECH',\n",
        "'Tech Mahindra Ltd. - TECHM',\n",
        "'Power Grid Corporation of India Ltd. - POWERGRID',\n",
        "'UltraTech Cement Ltd. - ULTRACEMCO',\n",
        "'Titan Company Ltd. - TITAN',\n",
        "'Britannia Industries Ltd. - BRITANNIA',\n",
        "'Adani Ports and Special Economic Zone Ltd. - ADANIPORTS',\n",
        "'Shree Cement Ltd. - SHREECEM',\n",
        "\"Dr. Reddy's Laboratories Ltd. - DRREDDY\",\n",
        "'Hero MotoCorp Ltd. - HEROMOTOCO',\n",
        "'Bajaj Auto Ltd. - BAJAJ-AUTO',\n",
        "\"Divi's Laboratories Ltd. - DIVISLAB\",\n",
        "'Oil & Natural Gas Corporation Ltd. - ONGC',\n",
        "'Coal India Ltd. - COALINDIA',\n",
        "'Tata Steel Ltd. - TATASTEEL',\n",
        "'Bharti Infratel Ltd. - INFRATEL',\n",
        "'IndusInd Bank Ltd. - INDUSINDBK',\n",
        "'SBI Life Insurance Company Ltd. - SBILIFE',\n",
        "'Indian Oil Corporation Ltd. - IOC',\n",
        "'NTPC Ltd. - NTPC',\n",
        "'Grasim Industries Ltd. - GRASIM',\n",
        "'Bharat Petroleum Corporation Ltd. - BPCL',\n",
        "'JSW Steel Ltd. - JSWSTEEL',\n",
        "'Tata Motors Ltd. - TATAMOTORS',\n",
        "'Cipla Ltd. - CIPLA',\n",
        "'Reliance Industries Ltd. - Preference Shares - RELIANCEP',\n",
        "'GAIL (India) Ltd. - GAIL',\n",
        "'Tata Consumer Products Ltd. - TATACONSUM',\n",
        "'UltraTech Cement Ltd. - Preference Shares - ULTRACEMCOP',\n",
        "'SBI Cards and Payment Services Ltd. - SBICARD',\n",
        "'HDFC Life Insurance Company Ltd. - HDFCLIFE',\n",
        "'Tata Power Company Ltd. - TATAPOWER',\n",
        "'UltraTech Cement Ltd. - ULTRACEMCO',\n",
        "'Bajaj Finserv Ltd. - BAJAJFINSV',\n",
        "'SBI Life Insurance Company Ltd. - SBILIFE',\n",
        "'Tata Motors Ltd. - TATAMOTORS',\n",
        "'Axis Bank Ltd. - AXISBANK',\n",
        "'Coal India Ltd. - COALINDIA',\n",
        "'Nestle India Ltd. - NESTLEIND',\n",
        "'Bharti Infratel Ltd. - INFRATEL',\n",
        "'Adani Enterprises Ltd. - ADANIENT',\n",
        "]"
      ],
      "metadata": {
        "id": "K6E1hcWYTsVZ"
      },
      "execution_count": 63,
      "outputs": []
    },
    {
      "cell_type": "code",
      "source": [
        "#@title Params\n",
        "start_year = 2016 #@param {type:\"integer\"}\n",
        "end_year = 2022 #@param {type:\"integer\"}\n"
      ],
      "metadata": {
        "id": "tP6Ztws3XijG"
      },
      "execution_count": 9,
      "outputs": []
    },
    {
      "cell_type": "code",
      "source": [
        "#@title Find average month change over past xx years\n",
        "DELTA_MONTH = collections.defaultdict(list)\n",
        "NUM_VALID = collections.defaultdict(list)\n",
        "for stock in TOP_K_NSE_STOCKS:\n",
        "  symbol = stock.strip().split(' - ')[-1]\n",
        "  month_sum = [0 for _ in range(12)]\n",
        "  month_valid = [0 for _ in range(12)]\n",
        "  for year in range(start_year, end_year + 1):\n",
        "    # TODO: check if we query change without asking all info in a dataframe.\n",
        "    for m in range(1, 12+1):\n",
        "      num_days = monthrange(year, m)[1]\n",
        "      try:\n",
        "        df = stock_df(symbol=symbol, from_date=datetime.date(year,m,1),\n",
        "                to_date=datetime.date(year,m,num_days), series=\"EQ\")\n",
        "        delta = df.head(1)['CLOSE'].tolist()[-1] - df.tail(1)['OPEN'].tolist()[-1]\n",
        "        month_sum[m] += delta\n",
        "        month_valid[m] += 1\n",
        "      except Exception as e:\n",
        "        print(f\" Not able to find data for {symbol} from_date=({year},{m},1) to_date=({year},{m},{num_days})\")\n",
        "  DELTA_MONTH[symbol] = [month_sum[x] / (month_valid[x] + 1e-8) for x in range(12)]\n",
        "  NUM_VALID[symbol] = month_valid"
      ],
      "metadata": {
        "id": "yJr-51YXVZn_"
      },
      "execution_count": null,
      "outputs": []
    },
    {
      "cell_type": "code",
      "source": [
        "#@title Plot per month bar plot given stock symbol\n",
        "\n",
        "plot_stock_symbol = 'HDFCBANK' #@param {type:\"string\"}\n",
        "plotdata = pd.DataFrame([{'average': DELTA_MONTH[plot_stock_symbol][x-1], 'num_valid': NUM_VALID[plot_stock_symbol][x-1]} for x in range(1, 12+1)],\n",
        "                        index=[calendar.month_name[x] for x in range(1,12+1)])\n",
        "\n",
        "plotdata.plot(kind=\"bar\")\n",
        "plt.title(f\"Per Month Average Change for {plot_stock_symbol}\")\n",
        "plt.xlabel(\"Month\")\n",
        "plt.ylabel(\"Average Change\")"
      ],
      "metadata": {
        "colab": {
          "base_uri": "https://localhost:8080/",
          "height": 358
        },
        "id": "NC00EIUbYD_G",
        "outputId": "ea899e54-1c87-4be3-93ca-aff36487a1e8"
      },
      "execution_count": 62,
      "outputs": [
        {
          "output_type": "execute_result",
          "data": {
            "text/plain": [
              "Text(0, 0.5, 'Average Change')"
            ]
          },
          "metadata": {},
          "execution_count": 62
        },
        {
          "output_type": "display_data",
          "data": {
            "text/plain": [
              "<Figure size 432x288 with 1 Axes>"
            ],
            "image/png": "[encoded data removed]"
          },
          "metadata": {
            "needs_background": "light"
          }
        }
      ]
    }
  ]
}